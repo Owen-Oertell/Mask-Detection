{
 "cells": [
  {
   "cell_type": "code",
   "execution_count": 6,
   "metadata": {
    "scrolled": true
   },
   "outputs": [
    {
     "name": "stdout",
     "output_type": "stream",
     "text": [
      "/home/owenoertell/Downloads/dataset\n"
     ]
    }
   ],
   "source": [
    "cd ~/Downloads/dataset/"
   ]
  },
  {
   "cell_type": "code",
   "execution_count": 3,
   "metadata": {},
   "outputs": [],
   "source": [
    "# Import needed libraries.\n",
    "\n",
    "import matplotlib.pyplot as plt\n",
    "import numpy as np\n",
    "import os\n",
    "import PIL\n",
    "import tensorflow as tf\n",
    "import pandas as pd\n",
    "\n",
    "from tensorflow import keras\n",
    "from tensorflow.keras import layers\n",
    "from tensorflow.keras.models import Sequential"
   ]
  },
  {
   "cell_type": "code",
   "execution_count": 71,
   "metadata": {},
   "outputs": [
    {
     "name": "stdout",
     "output_type": "stream",
     "text": [
      "Found 3833 files belonging to 2 classes.\n",
      "Using 3067 files for training.\n",
      "Found 3833 files belonging to 2 classes.\n",
      "Using 766 files for validation.\n"
     ]
    }
   ],
   "source": [
    "# Setting hyperparameters. In this case the image height and width are used to make the data more uniform.\n",
    "# eventually do need resize image to then pass to the model in practice. \n",
    "\n",
    "batch_size = 32\n",
    "img_height = 256\n",
    "img_width = 256\n",
    "\n",
    "# Import that training dataset. This dataset consisted of a total of 3833 images. Used the standard 20% for\n",
    "# validation and 80% for training.\n",
    "\n",
    "trainDataSet = tf.keras.preprocessing.image_dataset_from_directory(\n",
    "    \"/home/owenoertell/Downloads/dataset/\", labels='inferred', label_mode='categorical',\n",
    "    color_mode='grayscale', batch_size=32, image_size=(img_width, img_height), shuffle=True, seed=4236,\n",
    "    validation_split=0.2, subset=\"training\", interpolation='bilinear')\n",
    "\n",
    "validationDataSet = tf.keras.preprocessing.image_dataset_from_directory(\n",
    "    \"/home/owenoertell/Downloads/dataset/\", labels='inferred', label_mode='categorical',\n",
    "    color_mode='grayscale', batch_size=32, image_size=(img_width, img_height), shuffle=True, seed=4236,\n",
    "    validation_split=0.2, subset=\"validation\", interpolation='bilinear')"
   ]
  },
  {
   "cell_type": "code",
   "execution_count": 10,
   "metadata": {},
   "outputs": [],
   "source": [
    "# Define the model.\n",
    "\n",
    "model = Sequential([\n",
    "  # The first layer is a rescaling to normalize the data. By ensuring that all of the values are approxomately\n",
    "  # similar this makes the weights more effective.\n",
    "  layers.experimental.preprocessing.Rescaling(1./255, input_shape=(img_height, img_width, 1)),\n",
    "  # Convolution layers. First argument is the number of kernals for the covolution to learn,\n",
    "  # second is the size of the convolution window, padding is for if the convolution window runs over.\n",
    "  # Activation function is used to remove a linear association. The rectify linear (very common function) was used.\n",
    "  # the relu(x) = max(0,x)\n",
    "  layers.Conv2D(16, 3, padding='same', activation='relu'),\n",
    "  # Reduces the sampling size and \n",
    "  layers.MaxPooling2D(),\n",
    "  layers.Conv2D(32, 3, padding='same', activation='relu'),\n",
    "  layers.MaxPooling2D(),\n",
    "  layers.Conv2D(64, 3, padding='same', activation='relu'),\n",
    "  layers.MaxPooling2D(),\n",
    "  # Flatten fixes the shape to be passed to dense node layer. \n",
    "  layers.Flatten(),\n",
    "  # Apply dropout. This means that the rate 0.6 the input will become 0. This is used to prevent overfitting\n",
    "  # of the model to the data.\n",
    "  layers.Dropout(0.6),\n",
    "  # Passed to dense layer with 128 nodes. Uses relu activation function again\n",
    "  layers.Dense(128, activation='relu'),\n",
    "  # Passed to the prediction layer. Each node represents a class. In this case one represents mask and the other\n",
    "  # not having a mask.\n",
    "  layers.Dense(2)\n",
    "])"
   ]
  },
  {
   "cell_type": "code",
   "execution_count": 17,
   "metadata": {},
   "outputs": [],
   "source": [
    "model.compile(\n",
    "  # Uses the adam optimizer. While could have manually tuned hyperparameters, the adam optamiser is usually\n",
    "  # sufficent and in this case it was.\n",
    "  optimizer='adam',\n",
    "  # Specify the way loss is measured. Categorical crossentropy quantifies the error of a prediction during\n",
    "  # training.\n",
    "  loss=tf.losses.CategoricalCrossentropy(from_logits=True),\n",
    "  # Metrics to measure for each epoch. Used to look for instances of overfitting and/or if the model is\n",
    "  # approaching optimal accuracy.\n",
    "  metrics=['accuracy', 'mean_squared_error'])"
   ]
  },
  {
   "cell_type": "code",
   "execution_count": 18,
   "metadata": {
    "collapsed": true
   },
   "outputs": [
    {
     "name": "stdout",
     "output_type": "stream",
     "text": [
      "Epoch 1/10\n",
      "96/96 [==============================] - 84s 873ms/step - loss: 0.4853 - accuracy: 0.7590 - mean_squared_error: 0.8730 - val_loss: 0.3903 - val_accuracy: 0.8003 - val_mean_squared_error: 1.3686\n",
      "Epoch 2/10\n",
      "96/96 [==============================] - 83s 865ms/step - loss: 0.3236 - accuracy: 0.8556 - mean_squared_error: 2.0643 - val_loss: 0.3584 - val_accuracy: 0.8316 - val_mean_squared_error: 3.2056\n",
      "Epoch 3/10\n",
      "96/96 [==============================] - 62s 644ms/step - loss: 0.2256 - accuracy: 0.9077 - mean_squared_error: 4.4964 - val_loss: 0.2859 - val_accuracy: 0.8930 - val_mean_squared_error: 8.9658\n",
      "Epoch 4/10\n",
      "96/96 [==============================] - 57s 591ms/step - loss: 0.1684 - accuracy: 0.9273 - mean_squared_error: 7.4124 - val_loss: 0.2817 - val_accuracy: 0.8982 - val_mean_squared_error: 12.7934\n",
      "Epoch 5/10\n",
      "96/96 [==============================] - 56s 583ms/step - loss: 0.1292 - accuracy: 0.9547 - mean_squared_error: 11.7158 - val_loss: 0.2425 - val_accuracy: 0.9282 - val_mean_squared_error: 19.1252\n",
      "Epoch 6/10\n",
      "96/96 [==============================] - 58s 608ms/step - loss: 0.0912 - accuracy: 0.9684 - mean_squared_error: 16.4589 - val_loss: 0.2415 - val_accuracy: 0.9243 - val_mean_squared_error: 17.9791\n",
      "Epoch 7/10\n",
      "96/96 [==============================] - 59s 619ms/step - loss: 0.0714 - accuracy: 0.9736 - mean_squared_error: 20.8646 - val_loss: 0.2655 - val_accuracy: 0.9347 - val_mean_squared_error: 27.5523\n",
      "Epoch 8/10\n",
      "96/96 [==============================] - 60s 623ms/step - loss: 0.0661 - accuracy: 0.9729 - mean_squared_error: 31.0152 - val_loss: 0.3365 - val_accuracy: 0.9334 - val_mean_squared_error: 32.2404\n",
      "Epoch 9/10\n",
      "96/96 [==============================] - 58s 607ms/step - loss: 0.0567 - accuracy: 0.9788 - mean_squared_error: 33.8642 - val_loss: 0.3280 - val_accuracy: 0.9373 - val_mean_squared_error: 42.8518\n",
      "Epoch 10/10\n",
      "96/96 [==============================] - 59s 613ms/step - loss: 0.0476 - accuracy: 0.9830 - mean_squared_error: 42.2799 - val_loss: 0.3178 - val_accuracy: 0.9373 - val_mean_squared_error: 54.3008\n"
     ]
    }
   ],
   "source": [
    "# Train the model. Pass in training and validation data sets along with the number of epochs.\n",
    "# 10 epochs was chosen to allow the model to be quite accurate but not overfit.\n",
    "modelOutput = model.fit(\n",
    "  trainDataSet,\n",
    "  validation_data=validationDataSet,\n",
    "  epochs=10\n",
    ")"
   ]
  },
  {
   "cell_type": "code",
   "execution_count": 74,
   "metadata": {
    "scrolled": true
   },
   "outputs": [
    {
     "data": {
      "image/png": "[encoded data removed]",
      "text/plain": [
       "<Figure size 432x288 with 1 Axes>"
      ]
     },
     "metadata": {
      "needs_background": "light"
     },
     "output_type": "display_data"
    }
   ],
   "source": [
    "# Plot model accuracy during training. The final and maximum validation accuracy was 0.9373\n",
    "\n",
    "hist = pd.DataFrame(modelOutput.history)\n",
    "plt.plot(hist['accuracy'])\n",
    "plt.ylabel('Accuracy')\n",
    "plt.show()"
   ]
  },
  {
   "cell_type": "code",
   "execution_count": 26,
   "metadata": {
    "scrolled": false
   },
   "outputs": [],
   "source": [
    "# While this code was not used in the final iteration, it captures and reads input.\n",
    "\n",
    "import numpy as np\n",
    "import cv2 as cv\n",
    "\n",
    "# Capture camera input\n",
    "cap = cv.VideoCapture(0)\n",
    "ret, frame = cap.read()\n",
    "grayScaleValue = cv.cvtColor(frame, cv.COLOR_BGR2GRAY)\n",
    "cap.release()\n",
    "\n",
    "# Create haar and read face.\n",
    "\n",
    "# Load model for face detection\n",
    "faceCascade = cv.CascadeClassifier('/home/owenoertell/Downloads/haarcascade_frontalface_default.xml')\n",
    "\n",
    "# dectect faces. One signficant blocker we ran into was that facial detection with a mask was quite difficult.\n",
    "# which led us to needing to reduce the threshold for facial detection.\n",
    "faces = faceCascade.detectMultiScale(\n",
    "        grayScaleValue,\n",
    "        scaleFactor=1.02,\n",
    "        minNeighbors=5,\n",
    "        minSize=(10, 10)\n",
    "    )\n",
    "# Splice the orignal picture to include only the face.\n",
    "for (x,y,w,h) in faces:\n",
    "    #cv.rectangle(grayScaleValue,(x,y),(x+w,y+h),(255,0,0),2)\n",
    "    face = grayScaleValue[y:y+h, x:x+w]"
   ]
  },
  {
   "cell_type": "code",
   "execution_count": 27,
   "metadata": {},
   "outputs": [],
   "source": [
    "# Parse the face array. Add dimensions to allow for preprocessing by keras.\n",
    "newFace = np.expand_dims(face, axis=0)\n",
    "\n",
    "faceAsImg = tf.keras.preprocessing.image.array_to_img(newFace, data_format='channels_first')\n",
    "# resize image to fit 256x256 as set by hyperparameters.\n",
    "newFaceAsImage = faceAsImg.resize([256,256],1)\n",
    "\n",
    "# Convert back to array and display image.\n",
    "imgAsArray = tf.keras.preprocessing.image.img_to_array(newFaceAsImage, data_format='channels_first')\n",
    "newFaceAsImage.show()"
   ]
  },
  {
   "cell_type": "code",
   "execution_count": 28,
   "metadata": {},
   "outputs": [
    {
     "ename": "NameError",
     "evalue": "name 'model' is not defined",
     "output_type": "error",
     "traceback": [
      "\u001b[0;31m---------------------------------------------------------------------------\u001b[0m",
      "\u001b[0;31mNameError\u001b[0m                                 Traceback (most recent call last)",
      "\u001b[0;32m<ipython-input-28-2e3942015df9>\u001b[0m in \u001b[0;36m<module>\u001b[0;34m\u001b[0m\n\u001b[1;32m      1\u001b[0m \u001b[0;31m# Use the model to make a prediction on the taken image.\u001b[0m\u001b[0;34m\u001b[0m\u001b[0;34m\u001b[0m\u001b[0;34m\u001b[0m\u001b[0m\n\u001b[0;32m----> 2\u001b[0;31m \u001b[0mpredictions\u001b[0m \u001b[0;34m=\u001b[0m \u001b[0mmodel\u001b[0m\u001b[0;34m.\u001b[0m\u001b[0mpredict\u001b[0m\u001b[0;34m(\u001b[0m\u001b[0mimgAsArray\u001b[0m\u001b[0;34m)\u001b[0m\u001b[0;34m\u001b[0m\u001b[0;34m\u001b[0m\u001b[0m\n\u001b[0m\u001b[1;32m      3\u001b[0m \u001b[0;34m\u001b[0m\u001b[0m\n\u001b[1;32m      4\u001b[0m \u001b[0;31m# Use softmax function to get a score.\u001b[0m\u001b[0;34m\u001b[0m\u001b[0;34m\u001b[0m\u001b[0;34m\u001b[0m\u001b[0m\n\u001b[1;32m      5\u001b[0m \u001b[0mscore\u001b[0m \u001b[0;34m=\u001b[0m \u001b[0mtf\u001b[0m\u001b[0;34m.\u001b[0m\u001b[0mnn\u001b[0m\u001b[0;34m.\u001b[0m\u001b[0msoftmax\u001b[0m\u001b[0;34m(\u001b[0m\u001b[0mpredictions\u001b[0m\u001b[0;34m[\u001b[0m\u001b[0;36m0\u001b[0m\u001b[0;34m]\u001b[0m\u001b[0;34m)\u001b[0m\u001b[0;34m\u001b[0m\u001b[0;34m\u001b[0m\u001b[0m\n",
      "\u001b[0;31mNameError\u001b[0m: name 'model' is not defined"
     ]
    }
   ],
   "source": [
    "# Use the model to make a prediction on the taken image.\n",
    "predictions = model.predict(imgAsArray)\n",
    "\n",
    "# Use softmax function to get a score.\n",
    "score = tf.nn.softmax(predictions[0])\n",
    "class_names = [\"yes mask\", \"no mask\"]\n",
    "# Using the argmax value, report which class to which the image most likely belongs.\n",
    "print(\n",
    "    \"This image most likely belongs to {} with a {:.2f} percent confidence.\"\n",
    "    .format(class_names[np.argmax(score)], 100 * np.max(score))\n",
    ")"
   ]
  }
 ],
 "metadata": {
  "kernelspec": {
   "display_name": "Python 3",
   "language": "python",
   "name": "python3"
  },
  "language_info": {
   "codemirror_mode": {
    "name": "ipython",
    "version": 3
   },
   "file_extension": ".py",
   "mimetype": "text/x-python",
   "name": "python",
   "nbconvert_exporter": "python",
   "pygments_lexer": "ipython3",
   "version": "3.8.5"
  }
 },
 "nbformat": 4,
 "nbformat_minor": 4
}
